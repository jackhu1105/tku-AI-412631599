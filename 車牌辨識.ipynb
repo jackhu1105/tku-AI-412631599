{
  "nbformat": 4,
  "nbformat_minor": 0,
  "metadata": {
    "colab": {
      "provenance": [],
      "authorship_tag": "ABX9TyPSN9D/ROUn1F2H5XoKB1MK",
      "include_colab_link": true
    },
    "kernelspec": {
      "name": "python3",
      "display_name": "Python 3"
    },
    "language_info": {
      "name": "python"
    }
  },
  "cells": [
    {
      "cell_type": "markdown",
      "metadata": {
        "id": "view-in-github",
        "colab_type": "text"
      },
      "source": [
        "<a href=\"https://colab.research.google.com/github/jackhu1105/tku-AI-412631599/blob/main/%E8%BB%8A%E7%89%8C%E8%BE%A8%E8%AD%98.ipynb\" target=\"_parent\"><img src=\"https://colab.research.google.com/assets/colab-badge.svg\" alt=\"Open In Colab\"/></a>"
      ]
    },
    {
      "cell_type": "code",
      "execution_count": null,
      "metadata": {
        "id": "kO6v_XxXvL7h"
      },
      "outputs": [],
      "source": []
    },
    {
      "cell_type": "code",
      "source": [
        "import cv2 as cv\n",
        "import numpy as np\n",
        "\n",
        "src = cv.imread(\"D:/license/license1.jpg\")\n",
        "\n",
        "def license_preparation(image):\n",
        "    image_hsv = cv.cvtColor(image, cv.COLOR_BGR2HSV)\n",
        "    low_hsv = np.array([0, 0, 221])\n",
        "    high_hsv = np.array([180, 30, 255])\n",
        "    mask = cv.inRange(image_hsv, low_hsv, high_hsv)\n",
        "    cv.imshow('mask', mask)\n",
        "    image_dst = cv.bitwise_and(image, image, mask=mask)\n",
        "    cv.imshow('license_dst', image_dst)\n",
        "    image_blur = cv.GaussianBlur(image_dst, (7, 7), 0)  # Fixed the GaussianBlur call\n",
        "    cv.imshow('license_blur', image_blur)\n",
        "    image_gray = cv.cvtColor(image_blur, cv.COLOR_BGR2GRAY)\n",
        "    ret, binary = cv.threshold(image_gray, 0, 255, cv.THRESH_BINARY | cv.THRESH_OTSU)\n",
        "    cv.imshow('binary', binary)\n",
        "    kernel1 = cv.getStructuringElement(cv.MORPH_RECT, (4, 6))\n",
        "    image_open = cv.morphologyEx(binary, cv.MORPH_OPEN, kernel1)\n",
        "    cv.imshow('license_open', image_open)\n",
        "    kernel2 = cv.getStructuringElement(cv.MORPH_RECT, (7, 7))\n",
        "    image_closed = cv.morphologyEx(image_open, cv.MORPH_CLOSE, kernel2)\n",
        "    cv.imshow('license_closed', image_closed)  # Removed the '=' sign here\n",
        "    cv.namedWindow('output', 0)\n",
        "    return image_closed\n",
        "\n",
        "license_prepared = license_preparation(src)\n",
        "\n",
        "contours, hierarchy = cv.findContours(license_prepared, cv.RETR_EXTERNAL, cv.CHAIN_APPROX_SIMPLE)\n",
        "\n",
        "def choose_license_area(contours, Min_Area):\n",
        "    temp_contours = []\n",
        "    for contour in contours:\n",
        "        if cv.contourArea(contour) > Min_Area:\n",
        "            temp_contours.append(contour)\n",
        "    license_area = []\n",
        "    for temp_contour in temp_contours:\n",
        "        rect_tupple = cv.minAreaRect(temp_contour)\n",
        "        rect_width, rect_height = rect_tupple[1]\n",
        "        if rect_width < rect_height:\n",
        "            rect_width, rect_height = rect_height, rect_width\n",
        "        aspect_ratio = rect_width / rect_height\n",
        "        if 2 < aspect_ratio < 5.5:\n",
        "            license_area.append(temp_contour)\n",
        "    return license_area\n",
        "\n",
        "license_area = choose_license_area(contours, 1000)  # Corrected the second argument\n",
        "\n",
        "def license_segment(license_area):\n",
        "    if len(license_area) == 1:\n",
        "        for car_plate in license_area:\n",
        "            x, y, w, h = cv.boundingRect(car_plate)\n",
        "            card_img = src[y:y+h, x:x+w]\n",
        "            cv.imwrite(\"card_img.jpg\", card_img)  # Added file extension\n",
        "            return card_img\n",
        "\n",
        "result = license_segment(license_area)\n",
        "cv.imshow('result', result)\n",
        "\n",
        "# 添加适当的窗口事件循环和关闭窗口的代码\n",
        "cv.waitKey(0)\n",
        "cv.destroyAllWindows()\n"
      ],
      "metadata": {
        "id": "67nwKK0SW30B"
      },
      "execution_count": null,
      "outputs": []
    },
    {
      "cell_type": "code",
      "source": [
        "pip install opencv-python\n"
      ],
      "metadata": {
        "colab": {
          "base_uri": "https://localhost:8080/"
        },
        "id": "toqNAiV1ooJl",
        "outputId": "e7736937-83d9-44d4-9fe2-6a0224b68804"
      },
      "execution_count": null,
      "outputs": [
        {
          "output_type": "stream",
          "name": "stdout",
          "text": [
            "Requirement already satisfied: opencv-python in /usr/local/lib/python3.10/dist-packages (4.8.0.76)\n",
            "Requirement already satisfied: numpy>=1.21.2 in /usr/local/lib/python3.10/dist-packages (from opencv-python) (1.23.5)\n"
          ]
        }
      ]
    },
    {
      "cell_type": "code",
      "source": [],
      "metadata": {
        "id": "_fglzTmSG70b"
      },
      "execution_count": null,
      "outputs": []
    }
  ]
}