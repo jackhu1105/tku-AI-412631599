{
  "nbformat": 4,
  "nbformat_minor": 0,
  "metadata": {
    "colab": {
      "provenance": [],
      "authorship_tag": "ABX9TyM2JCM1ALshv3qSZuO36/n4",
      "include_colab_link": true
    },
    "kernelspec": {
      "name": "python3",
      "display_name": "Python 3"
    },
    "language_info": {
      "name": "python"
    }
  },
  "cells": [
    {
      "cell_type": "markdown",
      "metadata": {
        "id": "view-in-github",
        "colab_type": "text"
      },
      "source": [
        "<a href=\"https://colab.research.google.com/github/jackhu1105/tku-AI-412631599/blob/main/%E8%BB%8A%E7%89%8C%E8%BE%A8%E8%AD%98.ipynb\" target=\"_parent\"><img src=\"https://colab.research.google.com/assets/colab-badge.svg\" alt=\"Open In Colab\"/></a>"
      ]
    },
    {
      "cell_type": "code",
      "execution_count": null,
      "metadata": {
        "id": "kO6v_XxXvL7h"
      },
      "outputs": [],
      "source": [
        "import cv2 as cv\n",
        "import numpy as np\n",
        "import pytesseract as tess\n",
        "from PIL import Image\n",
        "\n",
        "src = cv.imread(\"D:\\license\\license1.jpg\")\n",
        "def license_prepation(image):\n",
        "    image_hsv = cv.cvtColor(image,cv.COLOR_BGR2HSV)\n",
        "    low_hsv = np.array([0,0,221])\n",
        "    high_hsv = np.array([180,30,255])\n",
        "    mask = cv.inRange(image_hsv , lowerb=low_hsv , upperb= high_hsv)\n",
        "    cv.imshow('mask',mask)\n",
        "    image_dst = cv.bitwise_and(image,image,mask=mask)\n",
        "    cv.imshow('license_dst', image_dst)\n",
        "    image_blur = cv.GaussianBlur(image_dst(7,7),0)\n",
        "    cv.imshow('license_blur',image_blur)\n",
        "    image_gray = cv.cvtColor(image_blur , cv.COLOR_BGR2GRAY)\n",
        "    ret,binary = cv.threshold(image_gray,0,255,cv.THRESH_BINARY | cv.THRESH_OTSU)\n",
        "    cv.imshow('binary', binary)\n",
        "    kernel1 = cv.getStructuringElement(cv.MORPH_RECT,(4,6))\n",
        "    image_open = cv.morphologyEx(binary,cv.MORPH_OPEN,kernel1)\n",
        "    cv.imshow('license_open',image_open)\n",
        "    kernel2 = cv.getStructuringElement(cv.MORPH_RECT,(7,7))\n",
        "    image_closed = cv.morphologyEx(image_open,cv.MORPH_CLOSE,kernel2)\n",
        "    cv.imshow = ('license_closed', image_closed)\n",
        "    cv.namedWindow('output',0)\n",
        "    return image_closed"
      ]
    },
    {
      "cell_type": "code",
      "source": [
        "import cv2 as cv\n",
        "import numpy as np\n",
        "\n",
        "src = cv.imread(\"D:/license/license1.jpg\")\n",
        "\n",
        "def license_preparation(image):\n",
        "    image_hsv = cv.cvtColor(image, cv.COLOR_BGR2HSV)\n",
        "    low_hsv = np.array([0, 0, 221])\n",
        "    high_hsv = np.array([180, 30, 255])\n",
        "    mask = cv.inRange(image_hsv, low_hsv, high_hsv)\n",
        "    cv.imshow('mask', mask)\n",
        "    image_dst = cv.bitwise_and(image, image, mask=mask)\n",
        "    cv.imshow('license_dst', image_dst)\n",
        "    image_blur = cv.GaussianBlur(image_dst, (7, 7), 0)  # Fixed the GaussianBlur call\n",
        "    cv.imshow('license_blur', image_blur)\n",
        "    image_gray = cv.cvtColor(image_blur, cv.COLOR_BGR2GRAY)\n",
        "    ret, binary = cv.threshold(image_gray, 0, 255, cv.THRESH_BINARY | cv.THRESH_OTSU)\n",
        "    cv.imshow('binary', binary)\n",
        "    kernel1 = cv.getStructuringElement(cv.MORPH_RECT, (4, 6))\n",
        "    image_open = cv.morphologyEx(binary, cv.MORPH_OPEN, kernel1)\n",
        "    cv.imshow('license_open', image_open)\n",
        "    kernel2 = cv.getStructuringElement(cv.MORPH_RECT, (7, 7))\n",
        "    image_closed = cv.morphologyEx(image_open, cv.MORPH_CLOSE, kernel2)\n",
        "    cv.imshow('license_closed', image_closed)  # Removed the '=' sign here\n",
        "    cv.namedWindow('output', 0)\n",
        "    return image_closed\n",
        "\n",
        "license_prepared = license_preparation(src)\n",
        "\n",
        "contours, hierarchy = cv.findContours(license_prepared, cv.RETR_EXTERNAL, cv.CHAIN_APPROX_SIMPLE)\n",
        "\n",
        "def choose_license_area(contours, Min_Area):\n",
        "    temp_contours = []\n",
        "    for contour in contours:\n",
        "        if cv.contourArea(contour) > Min_Area:\n",
        "            temp_contours.append(contour)\n",
        "    license_area = []\n",
        "    for temp_contour in temp_contours:\n",
        "        rect_tupple = cv.minAreaRect(temp_contour)\n",
        "        rect_width, rect_height = rect_tupple[1]\n",
        "        if rect_width < rect_height:\n",
        "            rect_width, rect_height = rect_height, rect_width\n",
        "        aspect_ratio = rect_width / rect_height\n",
        "        if 2 < aspect_ratio < 5.5:\n",
        "            license_area.append(temp_contour)\n",
        "    return license_area\n",
        "\n",
        "license_area = choose_license_area(contours, 1000)  # Corrected the second argument\n",
        "\n",
        "def license_segment(license_area):\n",
        "    if len(license_area) == 1:\n",
        "        for car_plate in license_area:\n",
        "            x, y, w, h = cv.boundingRect(car_plate)\n",
        "            card_img = src[y:y+h, x:x+w]\n",
        "            cv.imwrite(\"card_img.jpg\", card_img)  # Added file extension\n",
        "            return card_img\n",
        "\n",
        "result = license_segment(license_area)\n",
        "cv.imshow('result', result)\n",
        "\n",
        "# 添加适当的窗口事件循环和关闭窗口的代码\n",
        "cv.waitKey(0)\n",
        "cv.destroyAllWindows()\n"
      ],
      "metadata": {
        "colab": {
          "base_uri": "https://localhost:8080/",
          "height": 384
        },
        "id": "67nwKK0SW30B",
        "outputId": "1b5022c6-c9a0-4b76-d209-5b13f1cba879"
      },
      "execution_count": null,
      "outputs": [
        {
          "output_type": "error",
          "ename": "error",
          "evalue": "ignored",
          "traceback": [
            "\u001b[0;31m---------------------------------------------------------------------------\u001b[0m",
            "\u001b[0;31merror\u001b[0m                                     Traceback (most recent call last)",
            "\u001b[0;32m<ipython-input-17-caa63e9e1b29>\u001b[0m in \u001b[0;36m<cell line: 28>\u001b[0;34m()\u001b[0m\n\u001b[1;32m     26\u001b[0m     \u001b[0;32mreturn\u001b[0m \u001b[0mimage_closed\u001b[0m\u001b[0;34m\u001b[0m\u001b[0;34m\u001b[0m\u001b[0m\n\u001b[1;32m     27\u001b[0m \u001b[0;34m\u001b[0m\u001b[0m\n\u001b[0;32m---> 28\u001b[0;31m \u001b[0mlicense_prepared\u001b[0m \u001b[0;34m=\u001b[0m \u001b[0mlicense_preparation\u001b[0m\u001b[0;34m(\u001b[0m\u001b[0msrc\u001b[0m\u001b[0;34m)\u001b[0m\u001b[0;34m\u001b[0m\u001b[0;34m\u001b[0m\u001b[0m\n\u001b[0m\u001b[1;32m     29\u001b[0m \u001b[0;34m\u001b[0m\u001b[0m\n\u001b[1;32m     30\u001b[0m \u001b[0mcontours\u001b[0m\u001b[0;34m,\u001b[0m \u001b[0mhierarchy\u001b[0m \u001b[0;34m=\u001b[0m \u001b[0mcv\u001b[0m\u001b[0;34m.\u001b[0m\u001b[0mfindContours\u001b[0m\u001b[0;34m(\u001b[0m\u001b[0mlicense_prepared\u001b[0m\u001b[0;34m,\u001b[0m \u001b[0mcv\u001b[0m\u001b[0;34m.\u001b[0m\u001b[0mRETR_EXTERNAL\u001b[0m\u001b[0;34m,\u001b[0m \u001b[0mcv\u001b[0m\u001b[0;34m.\u001b[0m\u001b[0mCHAIN_APPROX_SIMPLE\u001b[0m\u001b[0;34m)\u001b[0m\u001b[0;34m\u001b[0m\u001b[0;34m\u001b[0m\u001b[0m\n",
            "\u001b[0;32m<ipython-input-17-caa63e9e1b29>\u001b[0m in \u001b[0;36mlicense_preparation\u001b[0;34m(image)\u001b[0m\n\u001b[1;32m      5\u001b[0m \u001b[0;34m\u001b[0m\u001b[0m\n\u001b[1;32m      6\u001b[0m \u001b[0;32mdef\u001b[0m \u001b[0mlicense_preparation\u001b[0m\u001b[0;34m(\u001b[0m\u001b[0mimage\u001b[0m\u001b[0;34m)\u001b[0m\u001b[0;34m:\u001b[0m\u001b[0;34m\u001b[0m\u001b[0;34m\u001b[0m\u001b[0m\n\u001b[0;32m----> 7\u001b[0;31m     \u001b[0mimage_hsv\u001b[0m \u001b[0;34m=\u001b[0m \u001b[0mcv\u001b[0m\u001b[0;34m.\u001b[0m\u001b[0mcvtColor\u001b[0m\u001b[0;34m(\u001b[0m\u001b[0mimage\u001b[0m\u001b[0;34m,\u001b[0m \u001b[0mcv\u001b[0m\u001b[0;34m.\u001b[0m\u001b[0mCOLOR_BGR2HSV\u001b[0m\u001b[0;34m)\u001b[0m\u001b[0;34m\u001b[0m\u001b[0;34m\u001b[0m\u001b[0m\n\u001b[0m\u001b[1;32m      8\u001b[0m     \u001b[0mlow_hsv\u001b[0m \u001b[0;34m=\u001b[0m \u001b[0mnp\u001b[0m\u001b[0;34m.\u001b[0m\u001b[0marray\u001b[0m\u001b[0;34m(\u001b[0m\u001b[0;34m[\u001b[0m\u001b[0;36m0\u001b[0m\u001b[0;34m,\u001b[0m \u001b[0;36m0\u001b[0m\u001b[0;34m,\u001b[0m \u001b[0;36m221\u001b[0m\u001b[0;34m]\u001b[0m\u001b[0;34m)\u001b[0m\u001b[0;34m\u001b[0m\u001b[0;34m\u001b[0m\u001b[0m\n\u001b[1;32m      9\u001b[0m     \u001b[0mhigh_hsv\u001b[0m \u001b[0;34m=\u001b[0m \u001b[0mnp\u001b[0m\u001b[0;34m.\u001b[0m\u001b[0marray\u001b[0m\u001b[0;34m(\u001b[0m\u001b[0;34m[\u001b[0m\u001b[0;36m180\u001b[0m\u001b[0;34m,\u001b[0m \u001b[0;36m30\u001b[0m\u001b[0;34m,\u001b[0m \u001b[0;36m255\u001b[0m\u001b[0;34m]\u001b[0m\u001b[0;34m)\u001b[0m\u001b[0;34m\u001b[0m\u001b[0;34m\u001b[0m\u001b[0m\n",
            "\u001b[0;31merror\u001b[0m: OpenCV(4.8.0) /io/opencv/modules/imgproc/src/color.cpp:182: error: (-215:Assertion failed) !_src.empty() in function 'cvtColor'\n"
          ]
        }
      ]
    },
    {
      "cell_type": "code",
      "source": [
        "pip install opencv-python\n"
      ],
      "metadata": {
        "colab": {
          "base_uri": "https://localhost:8080/"
        },
        "id": "toqNAiV1ooJl",
        "outputId": "e7736937-83d9-44d4-9fe2-6a0224b68804"
      },
      "execution_count": null,
      "outputs": [
        {
          "output_type": "stream",
          "name": "stdout",
          "text": [
            "Requirement already satisfied: opencv-python in /usr/local/lib/python3.10/dist-packages (4.8.0.76)\n",
            "Requirement already satisfied: numpy>=1.21.2 in /usr/local/lib/python3.10/dist-packages (from opencv-python) (1.23.5)\n"
          ]
        }
      ]
    },
    {
      "cell_type": "code",
      "source": [
        "import cv2 as cv\n",
        "import numpy as np\n",
        "import pytesseract as tess\n",
        "\n",
        "# 载入图像\n",
        "image = cv.imread(\"D:/license/license1.jpg\")\n",
        "\n",
        "def license_preparation(image):\n",
        "    # 将图像转换为HSV色彩空间\n",
        "    image_hsv = cv.cvtColor(image, cv.COLOR_BGR2HSV)\n",
        "\n",
        "    # 定义车牌颜色的HSV阈值的下限和上限\n",
        "    low_hsv = np.array([0, 0, 221])\n",
        "    high_hsv = np.array([180, 30, 255])\n",
        "\n",
        "    # 基于HSV阈值创建掩码\n",
        "    mask = cv.inRange(image_hsv, low_hsv, high_hsv)\n",
        "\n",
        "    # 将掩码应用到原始图像上\n",
        "    image_dst = cv.bitwise_and(image, image, mask=mask)\n",
        "\n",
        "    # 对带掩码的图像应用高斯模糊\n",
        "    image_blur = cv.GaussianBlur(image_dst, (7, 7), 0)\n",
        "\n",
        "    # 将模糊图像转换为灰度图像\n",
        "    image_gray = cv.cvtColor(image_blur, cv.COLOR_BGR2GRAY)\n",
        "\n",
        "    # 应用阈值处理以创建二值图像\n",
        "    ret, binary = cv.threshold(image_gray, 0, 255, cv.THRESH_BINARY | cv.THRESH_OTSU)\n",
        "\n",
        "    # 定义形态学操作的结构元素\n",
        "    kernel1 = cv.getStructuringElement(cv.MORPH_RECT, (4, 6))\n",
        "    kernel2 = cv.getStructuringElement(cv.MORPH_RECT, (7, 7))\n",
        "\n",
        "    # 应用形态学开运算和闭运算\n",
        "    image_open = cv.morphologyEx(binary, cv.MORPH_OPEN, kernel1)\n",
        "    image_closed = cv.morphologyEx(image_open, cv.MORPH_CLOSE, kernel2)\n",
        "\n",
        "    cv.imshow('掩码', mask)\n",
        "    cv.imshow('车牌提取', image_dst)\n",
        "    cv.imshow('高斯模糊', image_blur)\n",
        "    cv.imshow('二值图像', binary)\n",
        "    cv.imshow('开运算结果', image_open)\n",
        "    cv.imshow('闭运算结果', image_closed)\n",
        "\n",
        "# 为输出创建一个命名窗口（您的代码中此行有误）\n",
        "    cv.namedWindow('输出', 0)\n",
        "\n",
        "# 启动窗口事件循环\n",
        "    cv.waitKey(0)\n",
        "\n",
        "# 关闭所有OpenCV窗口\n",
        "    cv.destroyAllWindows()\n",
        "\n",
        "    return image_closed\n",
        "\n",
        "\n"
      ],
      "metadata": {
        "id": "_fglzTmSG70b"
      },
      "execution_count": null,
      "outputs": []
    }
  ]
}